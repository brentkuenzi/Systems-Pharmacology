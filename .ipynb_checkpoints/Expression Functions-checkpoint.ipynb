{
 "cells": [
  {
   "cell_type": "code",
   "execution_count": 1,
   "metadata": {
    "collapsed": true
   },
   "outputs": [],
   "source": [
    "import gseapy; import pandas as pd; import shutil\n",
    "import matplotlib.pyplot as plt\n",
    "import numpy as np\n",
    "import statsmodels.api as sm # recommended import according to the docs\n",
    "from beeswarm import *\n",
    "import seaborn.apionly as sns\n",
    "from ggplot import *\n",
    "from scipy.stats import ttest_ind, ttest_ind_from_stats\n",
    "import statsmodels.api as sm\n",
    "%matplotlib inline\n",
    "%config InlineBackend.figure_format = 'retina'\n",
    "#sns.set_style(\"ticks\")"
   ]
  },
  {
   "cell_type": "code",
   "execution_count": 2,
   "metadata": {
    "collapsed": true
   },
   "outputs": [],
   "source": [
    "def S2N(CCLE,sensitive,resistant): # not getting correct values -- too high\n",
    "    data_s = CCLE[CCLE[\"Cell.Line\"].isin(sensitive)]\n",
    "    data_r = CCLE[CCLE[\"Cell.Line\"].isin(resistant)]\n",
    "    sens_genes_mean = []; sens_genes_sd = []\n",
    "    resi_genes_mean = []; resi_genes_sd = []\n",
    "    genes_p = []\n",
    "    for i in range(1 , data_s.shape[1]):\n",
    "        sens_genes_mean.append(np.mean(data_s[data_s.columns[i]]))\n",
    "        sens_genes_sd.append(np.std(data_s[data_s.columns[i]], axis = 0, ddof = 1))\n",
    "        resi_genes_mean.append(np.mean(data_r[data_r.columns[i]]))\n",
    "        resi_genes_sd.append(np.std(data_r[data_r.columns[i]], axis = 0, ddof = 1))\n",
    "        genes_p.append(sm.stats.ttest_ind(data_s[data_s.columns[i]],data_r[data_r.columns[i]],alternative=\"two-sided\")[1])\n",
    "    sens_genes_mean = np.array(sens_genes_mean);sens_genes_sd = np.array(sens_genes_sd)\n",
    "    resi_genes_mean = np.array(resi_genes_mean);resi_genes_sd = np.array(resi_genes_sd)\n",
    "    S2N = (sens_genes_mean - resi_genes_mean) / (sens_genes_sd + resi_genes_sd)\n",
    "    S2N_df = pd.DataFrame({\"S2N\":S2N, \"pvalue\":genes_p,\n",
    "                           \"genes\":CCLE.columns.tolist()[1:],\n",
    "                           \"sens_mean\":sens_genes_mean,\n",
    "                           \"sens_sd\":sens_genes_sd,\n",
    "                           \"resi_mean\":resi_genes_mean,\n",
    "                           \"resi_sd\":resi_genes_sd})\n",
    "    return S2N_df"
   ]
  },
  {
   "cell_type": "code",
   "execution_count": 3,
   "metadata": {
    "collapsed": true
   },
   "outputs": [],
   "source": [
    "def dropUnnamedColumns(DataFrame):\n",
    "    cols = DataFrame.columns\n",
    "    indexes = []\n",
    "    cnt=0\n",
    "    for i in cols:\n",
    "        if \"Unnamed\" in i:\n",
    "            indexes.append(cnt)\n",
    "        cnt+=1\n",
    "    return DataFrame.drop(cols[indexes],axis=1)"
   ]
  },
  {
   "cell_type": "code",
   "execution_count": 4,
   "metadata": {
    "collapsed": true
   },
   "outputs": [],
   "source": [
    "test = pd.read_csv(\"/Users/brentkuenzi/Documents/Drug SVM/R_analysis/CCLE.txt\",sep=\"\\t\")\n",
    "test = dropUnnamedColumns(test)\n",
    "test = test.drop_duplicates(subset=[\"Cell.Line\"])\n",
    "test_S2N = S2N(test,[\"NCIH1155_LUNG\",\"NCIH460_LUNG\",\"NCIH1299_LUNG\"],[\"NCIH650_LUNG\",\"NCIH23_LUNG\",\"NCIH661_LUNG\",\"HCC2935_LUNG\"])"
   ]
  },
  {
   "cell_type": "code",
   "execution_count": 5,
   "metadata": {},
   "outputs": [
    {
     "data": {
      "text/plain": [
       "<matplotlib.lines.Line2D at 0x1217b20d0>"
      ]
     },
     "execution_count": 5,
     "metadata": {},
     "output_type": "execute_result"
    },
    {
     "data": {
      "image/png": "[encoded data removed]",
      "text/plain": [
       "<matplotlib.figure.Figure at 0x1217b2250>"
      ]
     },
     "metadata": {
      "image/png": {
       "height": 265,
       "width": 377
      }
     },
     "output_type": "display_data"
    }
   ],
   "source": [
    "test_S2N[\"-log10(pvalue)\"] = -np.log10(test_S2N[\"pvalue\"])\n",
    "plt.scatter(data=test_S2N,x=\"S2N\",y=\"-log10(pvalue)\",color=\"black\")\n",
    "plt.xlim(-3.5,5); plt.ylim(-0.5,4.5)\n",
    "plt.ylabel(\"-Log10(pvalue)\"); plt.xlabel(\"S2N\")\n",
    "plt.axvline(0,color=\"black\",ls=\"dashed\")"
   ]
  },
  {
   "cell_type": "code",
   "execution_count": null,
   "metadata": {
    "collapsed": true
   },
   "outputs": [],
   "source": []
  },
  {
   "cell_type": "code",
   "execution_count": null,
   "metadata": {
    "collapsed": true
   },
   "outputs": [],
   "source": []
  },
  {
   "cell_type": "code",
   "execution_count": null,
   "metadata": {
    "collapsed": true
   },
   "outputs": [],
   "source": []
  },
  {
   "cell_type": "code",
   "execution_count": null,
   "metadata": {
    "collapsed": true
   },
   "outputs": [],
   "source": []
  },
  {
   "cell_type": "code",
   "execution_count": 6,
   "metadata": {
    "collapsed": true
   },
   "outputs": [],
   "source": [
    "def KStestRanked(gene_subset,full_set,column,identifier,permutations=5000,direction=\"up\"):\n",
    "    \"\"\"\n",
    "    This function performs a modified Kolmogorov Smirnov test (ranked). gene_subset is\n",
    "    a list of genes to be tested. full_set is a Pandas dataframe. column is the\n",
    "    column of the dataset to rank on. Permutations is number of permutations of\n",
    "    random sampling for p-value estimation. direction is for determination of\n",
    "    degree of up or downregulation.\n",
    "\n",
    "    This modification is distinct from a standard KS test in several ways: First, when\n",
    "    comparing a large distribution to a small distribution in a standard KS test, the NULL\n",
    "    hypothesis is biased towards being rejected, and thus introduce false positives. Second,\n",
    "    a ranked KS test allows for the preferential ranking of sets that are separated from the\n",
    "    background at the tails of the distribution.\n",
    "    \"\"\"\n",
    "    # sort gene_subset and full_set\n",
    "    t = len(gene_subset); n = len(full_set); u_list = []; cnt = 1\n",
    "    j = lambda x: full_set[gene_subset in full_set[identifier]].index(x)\n",
    "    v_j = lambda x: full_set[identifier].index(x)\n",
    "    if direction == \"up\":\n",
    "        for i in gene_subset:\n",
    "            u_list.append((j(i)/t)-(v_j(i)/n))\n",
    "        u = max(u_list)\n",
    "    else:\n",
    "        for i in gene_subset:\n",
    "            u_list.append((v_j(i)/n)-((j(i)-1)/t))\n",
    "        u = max(u_list)\n",
    "    perm = 0\n",
    "    u_instances = 0\n",
    "    while perm < permutations:\n",
    "        random = full_set.sample(frac=(t/n)) # do I need to sort this?\n",
    "        u_list = []\n",
    "        for i in random:\n",
    "            if direction == \"up\":\n",
    "                u_list.append((j(i)/t)-(v_j(i)/n)) # need to fix for random sampling\n",
    "            else:\n",
    "                u_list.append((v_j(i)/n)-((j(i)-1)/t)) # need to fix for random sampling\n",
    "        u_random = max(u_list)\n",
    "        if u_random > u:\n",
    "            u_instances += 1\n",
    "        perm += 1\n",
    "    pvalue = u_instances / permutations\n",
    "    return pvalue"
   ]
  },
  {
   "cell_type": "code",
   "execution_count": null,
   "metadata": {
    "collapsed": true
   },
   "outputs": [],
   "source": []
  },
  {
   "cell_type": "code",
   "execution_count": 7,
   "metadata": {
    "collapsed": true
   },
   "outputs": [],
   "source": [
    "def KEGGanalysis(genes,cutoff=0.1,gene_sets=\"KEGG_2016\",description=\"pathway\"):\n",
    "    \"\"\"\n",
    "    This function performs KEGG analysis on a gene set. Input is a list gene names.\n",
    "    \"\"\"\n",
    "    gseapy.enrichr(gene_list=genes, description=description, gene_sets=gene_sets, outdir='test',cutoff=cutoff)\n",
    "    output = pd.read_csv(\"~/test/\"+gene_sets+\".pathway.enrichr.reports.txt\",sep=\"\\t\")\n",
    "    shutil.rmtree(\"test\")\n",
    "    return output\n",
    "def PlotKEGG(KEGGobject,color=\"black\",x=\"P-value\",abline = 0.05,abline_color=\"red\"):\n",
    "    \"\"\"\n",
    "    This function visualizes the output from KEGGanalysis. Input is pandas DF from KEGGanalysis\n",
    "    \"\"\"\n",
    "    KEGGobject[\"-log10(pvalue)\"] = -np.log10(KEGGobject[x])\n",
    "    plot = KEGGobject.sort_values(x)\n",
    "    objects = plot[\"Term\"]\n",
    "    objects2 = []\n",
    "    for i in objects:\n",
    "        objects2.append(i.split(\"_\")[0])\n",
    "    y_pos = list(range(len(plot[\"-log10(pvalue)\"])))\n",
    "    performance = plot[\"-log10(pvalue)\"]\n",
    "    fig, ax = plt.subplots()\n",
    "    ax.barh(y_pos, performance, align='center', alpha=0.5,color=color)\n",
    "    ax.invert_yaxis()\n",
    "    ax.set_yticks(y_pos)\n",
    "    ax.set_yticklabels(objects2)\n",
    "    ax.set_xlabel('-Log10(P-value)')\n",
    "    plt.axvline(x=abline,color=abline_color)\n",
    "    plt.show()"
   ]
  },
  {
   "cell_type": "code",
   "execution_count": 8,
   "metadata": {},
   "outputs": [
    {
     "ename": "SyntaxError",
     "evalue": "invalid syntax (<ipython-input-8-2ca086a63ecd>, line 1)",
     "output_type": "error",
     "traceback": [
      "\u001b[0;36m  File \u001b[0;32m\"<ipython-input-8-2ca086a63ecd>\"\u001b[0;36m, line \u001b[0;32m1\u001b[0m\n\u001b[0;31m    def ElasticNet:\u001b[0m\n\u001b[0m                  ^\u001b[0m\n\u001b[0;31mSyntaxError\u001b[0m\u001b[0;31m:\u001b[0m invalid syntax\n"
     ]
    }
   ],
   "source": [
    "def ElasticNet:\n",
    "    #function"
   ]
  },
  {
   "cell_type": "code",
   "execution_count": 9,
   "metadata": {},
   "outputs": [
    {
     "data": {
      "image/png": "[encoded data removed]",
      "text/plain": [
       "<matplotlib.figure.Figure at 0x1253397d0>"
      ]
     },
     "metadata": {
      "image/png": {
       "height": 288,
       "width": 391
      }
     },
     "output_type": "display_data"
    }
   ],
   "source": [
    "# Empirical distribution function\n",
    "# Wont work in atom but should in jupyter\n",
    "# make into a function for ranked KS (x=np.linspace(1,len(sample))) and KS (see below)\n",
    "#def plotECDF(sample1,sample2,x)\n",
    "\n",
    "sample = np.random.uniform(0, 1, 50)\n",
    "sample2 = np.random.uniform(0, 50, 900)\n",
    "def plotECDF(sample1,sample2,x,xlab=\"x\",ylab=\"ECDF\",title=\"Empirical Distribution Function\",color1=\"red\",color2=\"black\"):\n",
    "    ecdf = sm.distributions.ECDF(sample[x])\n",
    "    ecdf2 = sm.distributions.ECDF(sample2[x])\n",
    "    x1 = np.linspace(min(sample[x]), max(sample[x]))\n",
    "    y = ecdf(x1)\n",
    "    x2 = np.linspace(min(sample2[x]), max(sample[x]))\n",
    "    y2 = ecdf(x2)\n",
    "    plt.step(x1, y,color=color1)\n",
    "    plt.step(x2,y2,color=color2)\n",
    "    plt.ylabel(ylab); plt.xlabel(xlab)\n",
    "    plt.suptitle(title)\n",
    "    plt.show()\n",
    "plotECDF()"
   ]
  },
  {
   "cell_type": "code",
   "execution_count": 10,
   "metadata": {},
   "outputs": [
    {
     "ename": "IOError",
     "evalue": "File /Users/brentkuenzi/test/KEGG_2016.pathway.enrichr.reports.txt does not exist",
     "output_type": "error",
     "traceback": [
      "\u001b[0;31m---------------------------------------------------------------------------\u001b[0m",
      "\u001b[0;31mIOError\u001b[0m                                   Traceback (most recent call last)",
      "\u001b[0;32m<ipython-input-10-488b072d3ad8>\u001b[0m in \u001b[0;36m<module>\u001b[0;34m()\u001b[0m\n\u001b[1;32m      1\u001b[0m gl = ['SCARA3', 'LOC100044683', 'CMBL', 'CLIC6', 'IL13RA1', 'TACSTD2', 'DKKL1', 'CSF1',\n\u001b[1;32m      2\u001b[0m      'SYNPO2L', 'TINAGL1', 'PTX3', 'BGN', 'HERC1', 'EFNA1', 'CIB2', 'PMP22', 'TMEM173']\n\u001b[0;32m----> 3\u001b[0;31m \u001b[0mpathways\u001b[0m \u001b[0;34m=\u001b[0m \u001b[0mKEGGanalysis\u001b[0m\u001b[0;34m(\u001b[0m\u001b[0mgl\u001b[0m\u001b[0;34m,\u001b[0m\u001b[0mgene_sets\u001b[0m\u001b[0;34m=\u001b[0m\u001b[0;34m\"KEGG_2016\"\u001b[0m\u001b[0;34m)\u001b[0m\u001b[0;34m\u001b[0m\u001b[0m\n\u001b[0m\u001b[1;32m      4\u001b[0m \u001b[0mPlotKEGG\u001b[0m\u001b[0;34m(\u001b[0m\u001b[0mpathways\u001b[0m\u001b[0;34m)\u001b[0m\u001b[0;34m\u001b[0m\u001b[0m\n",
      "\u001b[0;32m<ipython-input-7-089fb0b52d6f>\u001b[0m in \u001b[0;36mKEGGanalysis\u001b[0;34m(genes, cutoff, gene_sets, description)\u001b[0m\n\u001b[1;32m      4\u001b[0m     \"\"\"\n\u001b[1;32m      5\u001b[0m     \u001b[0mgseapy\u001b[0m\u001b[0;34m.\u001b[0m\u001b[0menrichr\u001b[0m\u001b[0;34m(\u001b[0m\u001b[0mgene_list\u001b[0m\u001b[0;34m=\u001b[0m\u001b[0mgenes\u001b[0m\u001b[0;34m,\u001b[0m \u001b[0mdescription\u001b[0m\u001b[0;34m=\u001b[0m\u001b[0mdescription\u001b[0m\u001b[0;34m,\u001b[0m \u001b[0mgene_sets\u001b[0m\u001b[0;34m=\u001b[0m\u001b[0mgene_sets\u001b[0m\u001b[0;34m,\u001b[0m \u001b[0moutdir\u001b[0m\u001b[0;34m=\u001b[0m\u001b[0;34m'test'\u001b[0m\u001b[0;34m,\u001b[0m\u001b[0mcutoff\u001b[0m\u001b[0;34m=\u001b[0m\u001b[0mcutoff\u001b[0m\u001b[0;34m)\u001b[0m\u001b[0;34m\u001b[0m\u001b[0m\n\u001b[0;32m----> 6\u001b[0;31m     \u001b[0moutput\u001b[0m \u001b[0;34m=\u001b[0m \u001b[0mpd\u001b[0m\u001b[0;34m.\u001b[0m\u001b[0mread_csv\u001b[0m\u001b[0;34m(\u001b[0m\u001b[0;34m\"~/test/\"\u001b[0m\u001b[0;34m+\u001b[0m\u001b[0mgene_sets\u001b[0m\u001b[0;34m+\u001b[0m\u001b[0;34m\".pathway.enrichr.reports.txt\"\u001b[0m\u001b[0;34m,\u001b[0m\u001b[0msep\u001b[0m\u001b[0;34m=\u001b[0m\u001b[0;34m\"\\t\"\u001b[0m\u001b[0;34m)\u001b[0m\u001b[0;34m\u001b[0m\u001b[0m\n\u001b[0m\u001b[1;32m      7\u001b[0m     \u001b[0mshutil\u001b[0m\u001b[0;34m.\u001b[0m\u001b[0mrmtree\u001b[0m\u001b[0;34m(\u001b[0m\u001b[0;34m\"test\"\u001b[0m\u001b[0;34m)\u001b[0m\u001b[0;34m\u001b[0m\u001b[0m\n\u001b[1;32m      8\u001b[0m     \u001b[0;32mreturn\u001b[0m \u001b[0moutput\u001b[0m\u001b[0;34m\u001b[0m\u001b[0m\n",
      "\u001b[0;32m/Users/brentkuenzi/anaconda2/lib/python2.7/site-packages/pandas/io/parsers.pyc\u001b[0m in \u001b[0;36mparser_f\u001b[0;34m(filepath_or_buffer, sep, delimiter, header, names, index_col, usecols, squeeze, prefix, mangle_dupe_cols, dtype, engine, converters, true_values, false_values, skipinitialspace, skiprows, skipfooter, nrows, na_values, keep_default_na, na_filter, verbose, skip_blank_lines, parse_dates, infer_datetime_format, keep_date_col, date_parser, dayfirst, iterator, chunksize, compression, thousands, decimal, lineterminator, quotechar, quoting, escapechar, comment, encoding, dialect, tupleize_cols, error_bad_lines, warn_bad_lines, skip_footer, doublequote, delim_whitespace, as_recarray, compact_ints, use_unsigned, low_memory, buffer_lines, memory_map, float_precision)\u001b[0m\n\u001b[1;32m    527\u001b[0m                     skip_blank_lines=skip_blank_lines)\n\u001b[1;32m    528\u001b[0m \u001b[0;34m\u001b[0m\u001b[0m\n\u001b[0;32m--> 529\u001b[0;31m         \u001b[0;32mreturn\u001b[0m \u001b[0m_read\u001b[0m\u001b[0;34m(\u001b[0m\u001b[0mfilepath_or_buffer\u001b[0m\u001b[0;34m,\u001b[0m \u001b[0mkwds\u001b[0m\u001b[0;34m)\u001b[0m\u001b[0;34m\u001b[0m\u001b[0m\n\u001b[0m\u001b[1;32m    530\u001b[0m \u001b[0;34m\u001b[0m\u001b[0m\n\u001b[1;32m    531\u001b[0m     \u001b[0mparser_f\u001b[0m\u001b[0;34m.\u001b[0m\u001b[0m__name__\u001b[0m \u001b[0;34m=\u001b[0m \u001b[0mname\u001b[0m\u001b[0;34m\u001b[0m\u001b[0m\n",
      "\u001b[0;32m/Users/brentkuenzi/anaconda2/lib/python2.7/site-packages/pandas/io/parsers.pyc\u001b[0m in \u001b[0;36m_read\u001b[0;34m(filepath_or_buffer, kwds)\u001b[0m\n\u001b[1;32m    293\u001b[0m \u001b[0;34m\u001b[0m\u001b[0m\n\u001b[1;32m    294\u001b[0m     \u001b[0;31m# Create the parser.\u001b[0m\u001b[0;34m\u001b[0m\u001b[0;34m\u001b[0m\u001b[0m\n\u001b[0;32m--> 295\u001b[0;31m     \u001b[0mparser\u001b[0m \u001b[0;34m=\u001b[0m \u001b[0mTextFileReader\u001b[0m\u001b[0;34m(\u001b[0m\u001b[0mfilepath_or_buffer\u001b[0m\u001b[0;34m,\u001b[0m \u001b[0;34m**\u001b[0m\u001b[0mkwds\u001b[0m\u001b[0;34m)\u001b[0m\u001b[0;34m\u001b[0m\u001b[0m\n\u001b[0m\u001b[1;32m    296\u001b[0m \u001b[0;34m\u001b[0m\u001b[0m\n\u001b[1;32m    297\u001b[0m     \u001b[0;32mif\u001b[0m \u001b[0;34m(\u001b[0m\u001b[0mnrows\u001b[0m \u001b[0;32mis\u001b[0m \u001b[0;32mnot\u001b[0m \u001b[0mNone\u001b[0m\u001b[0;34m)\u001b[0m \u001b[0;32mand\u001b[0m \u001b[0;34m(\u001b[0m\u001b[0mchunksize\u001b[0m \u001b[0;32mis\u001b[0m \u001b[0;32mnot\u001b[0m \u001b[0mNone\u001b[0m\u001b[0;34m)\u001b[0m\u001b[0;34m:\u001b[0m\u001b[0;34m\u001b[0m\u001b[0m\n",
      "\u001b[0;32m/Users/brentkuenzi/anaconda2/lib/python2.7/site-packages/pandas/io/parsers.pyc\u001b[0m in \u001b[0;36m__init__\u001b[0;34m(self, f, engine, **kwds)\u001b[0m\n\u001b[1;32m    610\u001b[0m             \u001b[0mself\u001b[0m\u001b[0;34m.\u001b[0m\u001b[0moptions\u001b[0m\u001b[0;34m[\u001b[0m\u001b[0;34m'has_index_names'\u001b[0m\u001b[0;34m]\u001b[0m \u001b[0;34m=\u001b[0m \u001b[0mkwds\u001b[0m\u001b[0;34m[\u001b[0m\u001b[0;34m'has_index_names'\u001b[0m\u001b[0;34m]\u001b[0m\u001b[0;34m\u001b[0m\u001b[0m\n\u001b[1;32m    611\u001b[0m \u001b[0;34m\u001b[0m\u001b[0m\n\u001b[0;32m--> 612\u001b[0;31m         \u001b[0mself\u001b[0m\u001b[0;34m.\u001b[0m\u001b[0m_make_engine\u001b[0m\u001b[0;34m(\u001b[0m\u001b[0mself\u001b[0m\u001b[0;34m.\u001b[0m\u001b[0mengine\u001b[0m\u001b[0;34m)\u001b[0m\u001b[0;34m\u001b[0m\u001b[0m\n\u001b[0m\u001b[1;32m    613\u001b[0m \u001b[0;34m\u001b[0m\u001b[0m\n\u001b[1;32m    614\u001b[0m     \u001b[0;32mdef\u001b[0m \u001b[0m_get_options_with_defaults\u001b[0m\u001b[0;34m(\u001b[0m\u001b[0mself\u001b[0m\u001b[0;34m,\u001b[0m \u001b[0mengine\u001b[0m\u001b[0;34m)\u001b[0m\u001b[0;34m:\u001b[0m\u001b[0;34m\u001b[0m\u001b[0m\n",
      "\u001b[0;32m/Users/brentkuenzi/anaconda2/lib/python2.7/site-packages/pandas/io/parsers.pyc\u001b[0m in \u001b[0;36m_make_engine\u001b[0;34m(self, engine)\u001b[0m\n\u001b[1;32m    745\u001b[0m     \u001b[0;32mdef\u001b[0m \u001b[0m_make_engine\u001b[0m\u001b[0;34m(\u001b[0m\u001b[0mself\u001b[0m\u001b[0;34m,\u001b[0m \u001b[0mengine\u001b[0m\u001b[0;34m=\u001b[0m\u001b[0;34m'c'\u001b[0m\u001b[0;34m)\u001b[0m\u001b[0;34m:\u001b[0m\u001b[0;34m\u001b[0m\u001b[0m\n\u001b[1;32m    746\u001b[0m         \u001b[0;32mif\u001b[0m \u001b[0mengine\u001b[0m \u001b[0;34m==\u001b[0m \u001b[0;34m'c'\u001b[0m\u001b[0;34m:\u001b[0m\u001b[0;34m\u001b[0m\u001b[0m\n\u001b[0;32m--> 747\u001b[0;31m             \u001b[0mself\u001b[0m\u001b[0;34m.\u001b[0m\u001b[0m_engine\u001b[0m \u001b[0;34m=\u001b[0m \u001b[0mCParserWrapper\u001b[0m\u001b[0;34m(\u001b[0m\u001b[0mself\u001b[0m\u001b[0;34m.\u001b[0m\u001b[0mf\u001b[0m\u001b[0;34m,\u001b[0m \u001b[0;34m**\u001b[0m\u001b[0mself\u001b[0m\u001b[0;34m.\u001b[0m\u001b[0moptions\u001b[0m\u001b[0;34m)\u001b[0m\u001b[0;34m\u001b[0m\u001b[0m\n\u001b[0m\u001b[1;32m    748\u001b[0m         \u001b[0;32melse\u001b[0m\u001b[0;34m:\u001b[0m\u001b[0;34m\u001b[0m\u001b[0m\n\u001b[1;32m    749\u001b[0m             \u001b[0;32mif\u001b[0m \u001b[0mengine\u001b[0m \u001b[0;34m==\u001b[0m \u001b[0;34m'python'\u001b[0m\u001b[0;34m:\u001b[0m\u001b[0;34m\u001b[0m\u001b[0m\n",
      "\u001b[0;32m/Users/brentkuenzi/anaconda2/lib/python2.7/site-packages/pandas/io/parsers.pyc\u001b[0m in \u001b[0;36m__init__\u001b[0;34m(self, src, **kwds)\u001b[0m\n\u001b[1;32m   1117\u001b[0m         \u001b[0mkwds\u001b[0m\u001b[0;34m[\u001b[0m\u001b[0;34m'allow_leading_cols'\u001b[0m\u001b[0;34m]\u001b[0m \u001b[0;34m=\u001b[0m \u001b[0mself\u001b[0m\u001b[0;34m.\u001b[0m\u001b[0mindex_col\u001b[0m \u001b[0;32mis\u001b[0m \u001b[0;32mnot\u001b[0m \u001b[0mFalse\u001b[0m\u001b[0;34m\u001b[0m\u001b[0m\n\u001b[1;32m   1118\u001b[0m \u001b[0;34m\u001b[0m\u001b[0m\n\u001b[0;32m-> 1119\u001b[0;31m         \u001b[0mself\u001b[0m\u001b[0;34m.\u001b[0m\u001b[0m_reader\u001b[0m \u001b[0;34m=\u001b[0m \u001b[0m_parser\u001b[0m\u001b[0;34m.\u001b[0m\u001b[0mTextReader\u001b[0m\u001b[0;34m(\u001b[0m\u001b[0msrc\u001b[0m\u001b[0;34m,\u001b[0m \u001b[0;34m**\u001b[0m\u001b[0mkwds\u001b[0m\u001b[0;34m)\u001b[0m\u001b[0;34m\u001b[0m\u001b[0m\n\u001b[0m\u001b[1;32m   1120\u001b[0m \u001b[0;34m\u001b[0m\u001b[0m\n\u001b[1;32m   1121\u001b[0m         \u001b[0;31m# XXX\u001b[0m\u001b[0;34m\u001b[0m\u001b[0;34m\u001b[0m\u001b[0m\n",
      "\u001b[0;32mpandas/parser.pyx\u001b[0m in \u001b[0;36mpandas.parser.TextReader.__cinit__ (pandas/parser.c:3246)\u001b[0;34m()\u001b[0m\n",
      "\u001b[0;32mpandas/parser.pyx\u001b[0m in \u001b[0;36mpandas.parser.TextReader._setup_parser_source (pandas/parser.c:6111)\u001b[0;34m()\u001b[0m\n",
      "\u001b[0;31mIOError\u001b[0m: File /Users/brentkuenzi/test/KEGG_2016.pathway.enrichr.reports.txt does not exist"
     ]
    }
   ],
   "source": [
    "gl = ['SCARA3', 'LOC100044683', 'CMBL', 'CLIC6', 'IL13RA1', 'TACSTD2', 'DKKL1', 'CSF1',\n",
    "     'SYNPO2L', 'TINAGL1', 'PTX3', 'BGN', 'HERC1', 'EFNA1', 'CIB2', 'PMP22', 'TMEM173']\n",
    "pathways = KEGGanalysis(gl,gene_sets=\"KEGG_2016\")\n",
    "PlotKEGG(pathways)"
   ]
  },
  {
   "cell_type": "code",
   "execution_count": null,
   "metadata": {},
   "outputs": [],
   "source": [
    "pathways.shape"
   ]
  },
  {
   "cell_type": "code",
   "execution_count": null,
   "metadata": {},
   "outputs": [],
   "source": [
    "sns.swarmplot(data = pathways, x=\"-log10(pvalue)\",color=\"black\",label=\"test\")"
   ]
  },
  {
   "cell_type": "code",
   "execution_count": null,
   "metadata": {
    "collapsed": true
   },
   "outputs": [],
   "source": []
  },
  {
   "cell_type": "code",
   "execution_count": null,
   "metadata": {
    "collapsed": true
   },
   "outputs": [],
   "source": []
  }
 ],
 "metadata": {
  "anaconda-cloud": {},
  "kernelspec": {
   "display_name": "Python [default]",
   "language": "python",
   "name": "python2"
  },
  "language_info": {
   "codemirror_mode": {
    "name": "ipython",
    "version": 2
   },
   "file_extension": ".py",
   "mimetype": "text/x-python",
   "name": "python",
   "nbconvert_exporter": "python",
   "pygments_lexer": "ipython2",
   "version": "2.7.13"
  }
 },
 "nbformat": 4,
 "nbformat_minor": 2
}
